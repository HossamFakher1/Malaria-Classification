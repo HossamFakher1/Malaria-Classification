{
 "cells": [
  {
   "cell_type": "code",
   "execution_count": 1,
   "metadata": {
    "_cell_guid": "b1076dfc-b9ad-4769-8c92-a6c4dae69d19",
    "_uuid": "8f2839f25d086af736a60e9eeb907d3b93b6e0e5",
    "execution": {
     "iopub.execute_input": "2021-02-18T22:53:12.134869Z",
     "iopub.status.busy": "2021-02-18T22:53:12.134121Z",
     "iopub.status.idle": "2021-02-18T22:53:19.086458Z",
     "shell.execute_reply": "2021-02-18T22:53:19.085179Z"
    },
    "papermill": {
     "duration": 6.968784,
     "end_time": "2021-02-18T22:53:19.086680",
     "exception": false,
     "start_time": "2021-02-18T22:53:12.117896",
     "status": "completed"
    },
    "tags": []
   },
   "outputs": [],
   "source": [
    "import numpy as np\n",
    "import pandas as pd\n",
    "import matplotlib.pyplot as plt\n",
    "import seaborn as sns\n",
    "from sklearn.metrics import confusion_matrix\n",
    "from sklearn.model_selection import train_test_split\n",
    "%matplotlib inline\n",
    "import os\n",
    "import cv2 as cv\n",
    "import glob as gb\n",
    "np.random.seed(2)\n",
    "from tensorflow.keras.callbacks import EarlyStopping\n",
    "from tensorflow.keras.models import Sequential\n",
    "from tensorflow.keras.layers import Conv2D , Dense , Dropout , Flatten , MaxPooling2D , BatchNormalization ,experimental\n",
    "from tensorflow.python.keras.preprocessing.image import ImageDataGenerator"
   ]
  },
  {
   "cell_type": "code",
   "execution_count": 2,
   "metadata": {
    "execution": {
     "iopub.execute_input": "2021-02-18T22:53:19.106949Z",
     "iopub.status.busy": "2021-02-18T22:53:19.106383Z",
     "iopub.status.idle": "2021-02-18T22:53:19.110190Z",
     "shell.execute_reply": "2021-02-18T22:53:19.109607Z"
    },
    "papermill": {
     "duration": 0.015152,
     "end_time": "2021-02-18T22:53:19.110302",
     "exception": false,
     "start_time": "2021-02-18T22:53:19.095150",
     "status": "completed"
    },
    "tags": []
   },
   "outputs": [],
   "source": [
    "s=64\n",
    "X_train=[]\n",
    "y_train=[]\n",
    "\n",
    "code={'Uninfected':0,'Parasitized':1}\n",
    "    \n",
    "def getcode(n):\n",
    "    for x,y in code.items() :\n",
    "        if n==y :\n",
    "            return x"
   ]
  },
  {
   "cell_type": "code",
   "execution_count": 3,
   "metadata": {
    "execution": {
     "iopub.execute_input": "2021-02-18T22:53:19.128960Z",
     "iopub.status.busy": "2021-02-18T22:53:19.128357Z",
     "iopub.status.idle": "2021-02-18T22:57:52.878905Z",
     "shell.execute_reply": "2021-02-18T22:57:52.877813Z"
    },
    "papermill": {
     "duration": 273.7617,
     "end_time": "2021-02-18T22:57:52.879068",
     "exception": false,
     "start_time": "2021-02-18T22:53:19.117368",
     "status": "completed"
    },
    "tags": []
   },
   "outputs": [],
   "source": [
    "trainpath = r'../input/cell-images-for-detecting-malaria/cell_images/'\n",
    "\n",
    "for folder in os.listdir(trainpath):\n",
    "    files=gb.glob(pathname=str(trainpath+folder+'/*.png'))\n",
    "    for file in files :\n",
    "        image=cv.imread(file)\n",
    "        X_train.append(list(cv.resize(image,(s,s))))\n",
    "        y_train.append(code[folder])"
   ]
  },
  {
   "cell_type": "code",
   "execution_count": 4,
   "metadata": {
    "execution": {
     "iopub.execute_input": "2021-02-18T22:57:52.908239Z",
     "iopub.status.busy": "2021-02-18T22:57:52.907396Z",
     "iopub.status.idle": "2021-02-18T22:57:53.055608Z",
     "shell.execute_reply": "2021-02-18T22:57:53.056000Z"
    },
    "papermill": {
     "duration": 0.169657,
     "end_time": "2021-02-18T22:57:53.056142",
     "exception": false,
     "start_time": "2021-02-18T22:57:52.886485",
     "status": "completed"
    },
    "tags": []
   },
   "outputs": [
    {
     "data": {
      "image/png": "[encoded data removed]",
      "text/plain": [
       "<Figure size 432x288 with 1 Axes>"
      ]
     },
     "metadata": {
      "needs_background": "light"
     },
     "output_type": "display_data"
    }
   ],
   "source": [
    "plt.imshow(X_train[0])\n",
    "plt.show()"
   ]
  },
  {
   "cell_type": "code",
   "execution_count": 5,
   "metadata": {
    "execution": {
     "iopub.execute_input": "2021-02-18T22:57:53.191444Z",
     "iopub.status.busy": "2021-02-18T22:57:53.190562Z",
     "iopub.status.idle": "2021-02-18T22:57:54.513432Z",
     "shell.execute_reply": "2021-02-18T22:57:54.512929Z"
    },
    "papermill": {
     "duration": 1.449507,
     "end_time": "2021-02-18T22:57:54.513559",
     "exception": false,
     "start_time": "2021-02-18T22:57:53.064052",
     "status": "completed"
    },
    "tags": []
   },
   "outputs": [],
   "source": [
    "from sklearn.utils import shuffle\n",
    "X_train, y_train = shuffle(X_train, y_train, random_state=0)\n",
    "X_train=np.array(X_train)\n",
    "y_train=np.array(y_train)\n",
    "\n"
   ]
  },
  {
   "cell_type": "code",
   "execution_count": 6,
   "metadata": {
    "execution": {
     "iopub.execute_input": "2021-02-18T22:57:54.534660Z",
     "iopub.status.busy": "2021-02-18T22:57:54.533655Z",
     "iopub.status.idle": "2021-02-18T22:58:20.866542Z",
     "shell.execute_reply": "2021-02-18T22:58:20.865263Z"
    },
    "papermill": {
     "duration": 26.345192,
     "end_time": "2021-02-18T22:58:20.866696",
     "exception": false,
     "start_time": "2021-02-18T22:57:54.521504",
     "status": "completed"
    },
    "tags": []
   },
   "outputs": [],
   "source": [
    "image_gen = ImageDataGenerator(\n",
    "    \n",
    "      rescale=1./255,\n",
    "      shear_range=0.2,\n",
    "      zoom_range=0.2,\n",
    "      horizontal_flip=True\n",
    "\n",
    ")\n",
    "\n",
    "\n",
    "image_gen.fit(X_train, augment=True)"
   ]
  },
  {
   "cell_type": "code",
   "execution_count": 7,
   "metadata": {
    "execution": {
     "iopub.execute_input": "2021-02-18T22:58:20.896269Z",
     "iopub.status.busy": "2021-02-18T22:58:20.895603Z",
     "iopub.status.idle": "2021-02-18T22:58:24.364669Z",
     "shell.execute_reply": "2021-02-18T22:58:24.364210Z"
    },
    "papermill": {
     "duration": 3.487957,
     "end_time": "2021-02-18T22:58:24.364817",
     "exception": false,
     "start_time": "2021-02-18T22:58:20.876860",
     "status": "completed"
    },
    "tags": []
   },
   "outputs": [],
   "source": [
    "model1=Sequential([\n",
    "\n",
    "    Conv2D(filters=32,kernel_size=(2,2),padding='valid',activation='relu',input_shape=(s,s,3)),\n",
    "    \n",
    "    MaxPooling2D(pool_size=(2,2)),\n",
    "\n",
    "    Conv2D(filters=64,kernel_size=(2,2),padding='valid',activation='relu'),\n",
    "    \n",
    "    MaxPooling2D(pool_size=(2,2)),\n",
    "    \n",
    "    Conv2D(filters=128,kernel_size=(2,2),padding='same',activation='relu'),\n",
    "\n",
    "    MaxPooling2D(pool_size=(2,2)),\n",
    "\n",
    "    Conv2D(filters=256,kernel_size=(3,3),padding='same',activation='relu'),\n",
    "    \n",
    "    MaxPooling2D(pool_size=(3,3),strides=(2,2)),\n",
    "\n",
    "    Flatten(),\n",
    "\n",
    "    Dense(256,activation='relu'),\n",
    "    \n",
    "    Dense(265,activation='relu'),\n",
    "\n",
    "    Dense(128,activation='relu'),\n",
    "    \n",
    "    Dense(64,activation='relu'),\n",
    "\n",
    "    Dense(1,activation='sigmoid')\n",
    "\n",
    "    ])\n",
    "\n",
    "\n",
    "\n",
    "model1.compile(optimizer='adam',loss='binary_crossentropy',metrics=[\"accuracy\"])"
   ]
  },
  {
   "cell_type": "code",
   "execution_count": 8,
   "metadata": {
    "execution": {
     "iopub.execute_input": "2021-02-18T22:58:24.385205Z",
     "iopub.status.busy": "2021-02-18T22:58:24.384635Z",
     "iopub.status.idle": "2021-02-18T22:58:24.388716Z",
     "shell.execute_reply": "2021-02-18T22:58:24.388278Z"
    },
    "papermill": {
     "duration": 0.015188,
     "end_time": "2021-02-18T22:58:24.388854",
     "exception": false,
     "start_time": "2021-02-18T22:58:24.373666",
     "status": "completed"
    },
    "tags": []
   },
   "outputs": [],
   "source": [
    "\n",
    "\n",
    "callback = EarlyStopping(restore_best_weights=True, patience=2)\n",
    "\n"
   ]
  },
  {
   "cell_type": "code",
   "execution_count": 9,
   "metadata": {
    "execution": {
     "iopub.execute_input": "2021-02-18T22:58:24.409279Z",
     "iopub.status.busy": "2021-02-18T22:58:24.408789Z",
     "iopub.status.idle": "2021-02-18T22:58:53.924983Z",
     "shell.execute_reply": "2021-02-18T22:58:53.924449Z"
    },
    "papermill": {
     "duration": 29.528215,
     "end_time": "2021-02-18T22:58:53.925122",
     "exception": false,
     "start_time": "2021-02-18T22:58:24.396907",
     "status": "completed"
    },
    "tags": []
   },
   "outputs": [
    {
     "name": "stdout",
     "output_type": "stream",
     "text": [
      "Epoch 1/100\n",
      "776/776 [==============================] - 9s 6ms/step - loss: 0.6873 - accuracy: 0.7689 - val_loss: 0.1625 - val_accuracy: 0.9507\n",
      "Epoch 2/100\n",
      "776/776 [==============================] - 4s 5ms/step - loss: 0.1436 - accuracy: 0.9555 - val_loss: 0.2055 - val_accuracy: 0.9292\n",
      "Epoch 3/100\n",
      "776/776 [==============================] - 4s 5ms/step - loss: 0.1380 - accuracy: 0.9549 - val_loss: 0.1505 - val_accuracy: 0.9528\n",
      "Epoch 4/100\n",
      "776/776 [==============================] - 4s 5ms/step - loss: 0.1199 - accuracy: 0.9593 - val_loss: 0.1367 - val_accuracy: 0.9568\n",
      "Epoch 5/100\n",
      "776/776 [==============================] - 4s 5ms/step - loss: 0.1221 - accuracy: 0.9583 - val_loss: 0.1609 - val_accuracy: 0.9550\n",
      "Epoch 6/100\n",
      "776/776 [==============================] - 4s 5ms/step - loss: 0.1169 - accuracy: 0.9596 - val_loss: 0.1397 - val_accuracy: 0.9536\n"
     ]
    },
    {
     "data": {
      "text/plain": [
       "6"
      ]
     },
     "execution_count": 9,
     "metadata": {},
     "output_type": "execute_result"
    }
   ],
   "source": [
    "history = model1.fit(X_train,y_train,validation_split=0.1,epochs=100,batch_size=32, callbacks=[callback], verbose=1)\n",
    "len(history.history['loss'])"
   ]
  },
  {
   "cell_type": "code",
   "execution_count": 10,
   "metadata": {
    "execution": {
     "iopub.execute_input": "2021-02-18T22:58:54.413126Z",
     "iopub.status.busy": "2021-02-18T22:58:54.175629Z",
     "iopub.status.idle": "2021-02-18T22:58:58.311327Z",
     "shell.execute_reply": "2021-02-18T22:58:58.310773Z"
    },
    "papermill": {
     "duration": 4.261928,
     "end_time": "2021-02-18T22:58:58.311452",
     "exception": false,
     "start_time": "2021-02-18T22:58:54.049524",
     "status": "completed"
    },
    "tags": []
   },
   "outputs": [
    {
     "name": "stdout",
     "output_type": "stream",
     "text": [
      "862/862 [==============================] - 2s 3ms/step - loss: 0.1085 - accuracy: 0.9632\n",
      "0.10849031805992126\n",
      "0.9632411599159241\n"
     ]
    }
   ],
   "source": [
    "ModelLoss, ModelAccuracy = model1.evaluate(X_train, y_train)\n",
    "y_pred=model1.predict(X_train)\n",
    "print(ModelLoss)\n",
    "print(ModelAccuracy)\n",
    "\n"
   ]
  },
  {
   "cell_type": "code",
   "execution_count": 11,
   "metadata": {
    "execution": {
     "iopub.execute_input": "2021-02-18T22:58:58.630452Z",
     "iopub.status.busy": "2021-02-18T22:58:58.629090Z",
     "iopub.status.idle": "2021-02-18T22:58:58.955466Z",
     "shell.execute_reply": "2021-02-18T22:58:58.955895Z"
    },
    "papermill": {
     "duration": 0.494864,
     "end_time": "2021-02-18T22:58:58.956048",
     "exception": false,
     "start_time": "2021-02-18T22:58:58.461184",
     "status": "completed"
    },
    "tags": []
   },
   "outputs": [
    {
     "data": {
      "image/png": "[encoded data removed]",
      "text/plain": [
       "<Figure size 432x288 with 1 Axes>"
      ]
     },
     "metadata": {
      "needs_background": "light"
     },
     "output_type": "display_data"
    },
    {
     "data": {
      "image/png": "[encoded data removed]",
      "text/plain": [
       "<Figure size 432x288 with 1 Axes>"
      ]
     },
     "metadata": {
      "needs_background": "light"
     },
     "output_type": "display_data"
    }
   ],
   "source": [
    "# summarize history for accuracy\n",
    "plt.plot(history.history['accuracy'])\n",
    "plt.plot(history.history['val_accuracy'])\n",
    "plt.title('model accuracy')\n",
    "plt.ylabel('accuracy')\n",
    "plt.xlabel('epoch')\n",
    "plt.legend(['train', 'test'], loc='upper left')\n",
    "plt.show()\n",
    "# summarize history for loss\n",
    "plt.plot(history.history['loss'])\n",
    "plt.plot(history.history['val_loss'])\n",
    "plt.title('model loss')\n",
    "plt.ylabel('loss')\n",
    "plt.xlabel('epoch')\n",
    "plt.legend(['train', 'test'], loc='upper left')\n",
    "plt.show()"
   ]
  },
  {
   "cell_type": "code",
   "execution_count": null,
   "metadata": {
    "papermill": {
     "duration": 0.141699,
     "end_time": "2021-02-18T22:58:59.241117",
     "exception": false,
     "start_time": "2021-02-18T22:58:59.099418",
     "status": "completed"
    },
    "tags": []
   },
   "outputs": [],
   "source": []
  }
 ],
 "metadata": {
  "kernelspec": {
   "display_name": "Python 3",
   "language": "python",
   "name": "python3"
  },
  "language_info": {
   "codemirror_mode": {
    "name": "ipython",
    "version": 3
   },
   "file_extension": ".py",
   "mimetype": "text/x-python",
   "name": "python",
   "nbconvert_exporter": "python",
   "pygments_lexer": "ipython3",
   "version": "3.7.9"
  },
  "papermill": {
   "default_parameters": {},
   "duration": 355.840811,
   "end_time": "2021-02-18T22:59:02.393161",
   "environment_variables": {},
   "exception": null,
   "input_path": "__notebook__.ipynb",
   "output_path": "__notebook__.ipynb",
   "parameters": {},
   "start_time": "2021-02-18T22:53:06.552350",
   "version": "2.2.2"
  }
 },
 "nbformat": 4,
 "nbformat_minor": 4
}
